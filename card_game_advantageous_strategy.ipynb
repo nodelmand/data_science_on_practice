{
 "cells": [
  {
   "cell_type": "markdown",
   "id": "3560d437",
   "metadata": {},
   "source": [
    "# Поиск выигрышной стратегии в карточной игре (вероятностное программирование)"
   ]
  },
  {
   "cell_type": "markdown",
   "id": "1bc4ce5b",
   "metadata": {},
   "source": [
    "### Условие задачи\n",
    "\n",
    "#### Дано: \n",
    "- Колода 52 карты, повернуты рубашкой вверх. \n",
    "- Одна половина карт - красная, вторая - черная. \n",
    "- Карты переворачивают одну за другой. \n",
    "- Если последняя перевернутая карта окажется красной - выигрыш +1.  \n",
    "- Если последняя перевернутая карта окажется черной - проигрыш -1.\n",
    "- Игра может окончиться в любой момент. При желании игроков. \n",
    "- Можно играть сколько угодно раз. \n",
    "- Каждый раз колода перетасовывается. \n",
    "- Расчет после каждого раунда\n",
    "#### To-do:\n",
    "- 1) Вычислить вероятность событий при помощи анализа пространства элементарных исходов.\n",
    "- 2) Отобразить вероятность событий для ряда значений интервалов.\n",
    "- 3) Симулировать случайные процессы, такие как подбрасывание монеты, перетасовка карт при помощи Python. \n",
    "- 4) Оценить уверенность в решениях, полученных в результате симуляций, используя анализ доверительных интервалов."
   ]
  },
  {
   "cell_type": "markdown",
   "id": "9ce96624",
   "metadata": {},
   "source": [
    "## 1.1 Анализ пространсва элементарных исходов "
   ]
  },
  {
   "cell_type": "markdown",
   "id": "09281483",
   "metadata": {},
   "source": [
    "#### Подбрасывание честной монеты как пространство элементарных исходов.\n",
    "Создание вероятностного пространства"
   ]
  },
  {
   "cell_type": "code",
   "execution_count": 3,
   "id": "5cbd09c2",
   "metadata": {},
   "outputs": [
    {
     "name": "stdout",
     "output_type": "stream",
     "text": [
      "Probability of choosing heads is 0.5\n"
     ]
    }
   ],
   "source": [
    "# Создание пространства Орлы / решки\n",
    "sample_space = {'Heads', 'Tails'}\n",
    "# Heads как и Tails имеют частоту 1/2\n",
    "probability_heads = 1 / len(sample_space)\n",
    "print(f'Probability of choosing heads is {probability_heads}')\n",
    "# Мы описали вероятность события. Событие - это подмножество элементов в sample_space, \n",
    "# которые удовлетворяют условию события. Условие события - простая логическая функция\n",
    "# Функция принимает на вход элемент из sample_space и возвращает True, только\n",
    "# если этот элемент удовлетворяет требованиям условий."
   ]
  },
  {
   "cell_type": "markdown",
   "id": "a4614f7e",
   "metadata": {},
   "source": [
    "Определение условий"
   ]
  },
  {
   "cell_type": "code",
   "execution_count": 7,
   "id": "3f19afd3",
   "metadata": {},
   "outputs": [],
   "source": [
    "# Определим условия: \"Выпад орла или решки\", \"Ни одно из них\"\n",
    "def is_heads_or_tails(outcome): return outcome in {'Heads', 'Tails'}\n",
    "def is_neither(outcome): return not is_heads_or_tails(outcome)\n",
    "# Определение условий для базовых событий: \"Выпад орла\", \"Выпад решки\"\n",
    "def is_heads(outcome): return outcome == \"Heads\"\n",
    "def is_tails(outcome): return outcome == \"Tails\""
   ]
  },
  {
   "cell_type": "markdown",
   "id": "1a1db6fc",
   "metadata": {},
   "source": [
    "Создание функции выявления события. На вход получает условие события. Перебрав полученное пространство, эта функция возвращает ножество исходов, в котором event_condition(outcome) равен True"
   ]
  },
  {
   "cell_type": "code",
   "execution_count": 13,
   "id": "63741d0d",
   "metadata": {},
   "outputs": [],
   "source": [
    "# Создаем функцию выявления события\n",
    "def get_matching_event(event_condition, sample_space):\n",
    "    return set([outcome for outcome in sample_space\n",
    "                if event_condition(outcome)])"
   ]
  },
  {
   "cell_type": "markdown",
   "id": "6ec0c609",
   "metadata": {},
   "source": [
    "Выполняем функцию для всех четырех условий"
   ]
  },
  {
   "cell_type": "code",
   "execution_count": 20,
   "id": "fd1555be",
   "metadata": {
    "scrolled": true
   },
   "outputs": [
    {
     "name": "stdout",
     "output_type": "stream",
     "text": [
      "Event Condition: is_heads_or_tails\n",
      "Event: {'Heads', 'Tails'}\n",
      "\n",
      "Event Condition: is_heads\n",
      "Event: {'Heads'}\n",
      "\n",
      "Event Condition: is_tails\n",
      "Event: {'Tails'}\n",
      "\n",
      "Event Condition: is_neither\n",
      "Event: set()\n",
      "\n"
     ]
    }
   ],
   "source": [
    "# Создаем список с условиями \n",
    "event_conditions = [is_heads_or_tails, is_heads, is_tails, is_neither]\n",
    "\n",
    "for event_condition in event_conditions: \n",
    "    print(f\"Event Condition: {event_condition.__name__}\")\n",
    "    event = get_matching_event(event_condition, sample_space)\n",
    "    print(f'Event: {event}\\n')\n"
   ]
  },
  {
   "cell_type": "markdown",
   "id": "a9113b33",
   "metadata": {},
   "source": [
    "Вычисление вероятности события. Вероятность многоэлементного события для честной монеты равна размеру этого события, разделенному на размер пространства элементарных исходов. "
   ]
  },
  {
   "cell_type": "code",
   "execution_count": 24,
   "id": "e668188e",
   "metadata": {},
   "outputs": [
    {
     "name": "stdout",
     "output_type": "stream",
     "text": [
      "Probability of event arising from 'is_heads_or_tails' is 1.0\n",
      "Probability of event arising from 'is_heads' is 0.5\n",
      "Probability of event arising from 'is_tails' is 0.5\n",
      "Probability of event arising from 'is_neither' is 0.0\n"
     ]
    }
   ],
   "source": [
    "# Создание функции compute_probability (извлекает событие, вычисляет его вероятность)\n",
    "def compute_probability(event_condition, generic_sample_space):\n",
    "    event = get_matching_event(event_condition, generic_sample_space)\n",
    "    return len(event) / len(generic_sample_space)\n",
    "# Цикл для выполнения функции\n",
    "for event_condition in event_conditions: \n",
    "    prob = compute_probability(event_condition, sample_space)\n",
    "    name = event_condition.__name__\n",
    "    print(f\"Probability of event arising from '{name}' is {prob}\")"
   ]
  },
  {
   "cell_type": "markdown",
   "id": "17b2826a",
   "metadata": {},
   "source": [
    "Получен диапазон вероятностей событий (0-1). Нижняя и верхняя границы. "
   ]
  },
  {
   "cell_type": "markdown",
   "id": "b9f5e201",
   "metadata": {},
   "source": [
    "#### 1.1.1. Анализ несимметричной монеты"
   ]
  },
  {
   "cell_type": "markdown",
   "id": "3ef6770d",
   "metadata": {},
   "source": [
    "Вероятность выпадения орлом в четыре раза выше, чем выпадение решкой. Создаем словарь с весами. "
   ]
  },
  {
   "cell_type": "code",
   "execution_count": 25,
   "id": "3e13c9af",
   "metadata": {},
   "outputs": [],
   "source": [
    "# Создаем пространство взвешанных весов\n",
    "weighted_sample_space = {'Heads': 4, \"Tails\": 1}"
   ]
  },
  {
   "cell_type": "code",
   "execution_count": 37,
   "id": "0e05373c",
   "metadata": {},
   "outputs": [],
   "source": [
    "# Проверим размер пространства взвешанных весов \n",
    "sample_space_size = sum(weighted_sample_space.values())\n",
    "assert sample_space_size == 5\n",
    "# Суммирование всех веслов дает размер события\n",
    "event = get_matching_event(is_heads_or_tails, weighted_sample_space)\n",
    "event_size = sum(weighted_sample_space[outcome] for outcome in event) \n",
    "assert event_size == 5"
   ]
  },
  {
   "cell_type": "code",
   "execution_count": 44,
   "id": "378cb1e5",
   "metadata": {},
   "outputs": [],
   "source": [
    "# Определяем обощенную функцию вычисления вероятности события\n",
    "def compute_event_probability(event_condition, generic_sample_space):\n",
    "    event = get_matching_event(event_condition, generic_sample_space)\n",
    "    if type(generic_sample_space) == type(set()):\n",
    "        return len(event) / len(generic_sample_space)\n",
    "    event_size = sum(generic_sample_space[outcome]\n",
    "                    for outcome in event)\n",
    "    return event_size / sum(generic_sample_space. values())"
   ]
  },
  {
   "cell_type": "code",
   "execution_count": 45,
   "id": "87143ec4",
   "metadata": {},
   "outputs": [
    {
     "name": "stdout",
     "output_type": "stream",
     "text": [
      "Probability of event arising from 'is_heads_or_tails' is 1.0\n",
      "Probability of event arising from 'is_heads' is 0.8\n",
      "Probability of event arising from 'is_tails' is 0.2\n",
      "Probability of event arising from 'is_neither' is 0.0\n"
     ]
    }
   ],
   "source": [
    "# Цикл для вывода вероятностей событий\n",
    "for event_condition in event_conditions: \n",
    "    prob = compute_event_probability(event_condition, weighted_sample_space)\n",
    "    name = event_condition.__name__\n",
    "    print(f\"Probability of event arising from '{name}' is {prob}\")"
   ]
  },
  {
   "cell_type": "markdown",
   "id": "a62c18c3",
   "metadata": {},
   "source": [
    "Применим инструмент к более сложным случаям. "
   ]
  },
  {
   "cell_type": "markdown",
   "id": "745e492e",
   "metadata": {},
   "source": [
    "## 1.2 Вычисление сложных вероятностей"
   ]
  },
  {
   "cell_type": "markdown",
   "id": "e862faed",
   "metadata": {},
   "source": [
    "Будем использовать compute_event_probability"
   ]
  },
  {
   "cell_type": "markdown",
   "id": "772025d7",
   "metadata": {},
   "source": [
    "#### Анализ семьи с четырьмя детьми"
   ]
  },
  {
   "cell_type": "code",
   "execution_count": null,
   "id": "328d3592",
   "metadata": {},
   "outputs": [],
   "source": []
  },
  {
   "cell_type": "code",
   "execution_count": null,
   "id": "6db00ab0",
   "metadata": {},
   "outputs": [],
   "source": []
  },
  {
   "cell_type": "code",
   "execution_count": null,
   "id": "a6eb3ee7",
   "metadata": {},
   "outputs": [],
   "source": []
  },
  {
   "cell_type": "code",
   "execution_count": null,
   "id": "183758c1",
   "metadata": {},
   "outputs": [],
   "source": []
  },
  {
   "cell_type": "code",
   "execution_count": null,
   "id": "378bd2f3",
   "metadata": {},
   "outputs": [],
   "source": []
  }
 ],
 "metadata": {
  "kernelspec": {
   "display_name": "Python 3 (ipykernel)",
   "language": "python",
   "name": "python3"
  },
  "language_info": {
   "codemirror_mode": {
    "name": "ipython",
    "version": 3
   },
   "file_extension": ".py",
   "mimetype": "text/x-python",
   "name": "python",
   "nbconvert_exporter": "python",
   "pygments_lexer": "ipython3",
   "version": "3.9.13"
  }
 },
 "nbformat": 4,
 "nbformat_minor": 5
}
